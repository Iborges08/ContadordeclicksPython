{
 "cells": [
  {
   "cell_type": "code",
   "execution_count": 9,
   "metadata": {},
   "outputs": [],
   "source": [
    "import mysql.connector\n",
    "\n",
    "# Configuração da conexão com o banco de dados\n",
    "conexao = mysql.connector.connect(\n",
    "    host='localhost',\n",
    "    port= '3306',\n",
    "    user='root',\n",
    "    password='12345678',\n",
    "    database='cliques'\n",
    ")"
   ]
  },
  {
   "cell_type": "code",
   "execution_count": 10,
   "metadata": {},
   "outputs": [],
   "source": [
    "# Crie um cursor\n",
    "cursor = conexao.cursor()"
   ]
  },
  {
   "cell_type": "code",
   "execution_count": 12,
   "metadata": {},
   "outputs": [],
   "source": [
    "# Defina a consulta SQL para criar a tabela de cliques\n",
    "consulta = \"\"\"\n",
    "CREATE TABLE cliques (\n",
    "    id INT AUTO_INCREMENT PRIMARY KEY,\n",
    "    ip VARCHAR(45),\n",
    "    data_hora TIMESTAMP DEFAULT CURRENT_TIMESTAMP,\n",
    "    contador INT\n",
    ")\n",
    "\"\"\""
   ]
  },
  {
   "cell_type": "code",
   "execution_count": 13,
   "metadata": {},
   "outputs": [],
   "source": [
    "# Execute a consulta SQL para criar a tabela\n",
    "cursor.execute(consulta)"
   ]
  },
  {
   "cell_type": "code",
   "execution_count": 14,
   "metadata": {},
   "outputs": [],
   "source": [
    "# Confirme as alterações no banco de dados\n",
    "conexao.commit()"
   ]
  },
  {
   "cell_type": "code",
   "execution_count": 15,
   "metadata": {},
   "outputs": [],
   "source": [
    "# Feche o cursor e a conexão\n",
    "cursor.close()\n",
    "conexao.close()"
   ]
  },
  {
   "cell_type": "code",
   "execution_count": 45,
   "metadata": {},
   "outputs": [
    {
     "name": "stdout",
     "output_type": "stream",
     "text": [
      " * Serving Flask app '__main__'\n",
      " * Debug mode: off\n"
     ]
    },
    {
     "name": "stderr",
     "output_type": "stream",
     "text": [
      "WARNING: This is a development server. Do not use it in a production deployment. Use a production WSGI server instead.\n",
      " * Running on http://127.0.0.1:5000\n",
      "Press CTRL+C to quit\n"
     ]
    }
   ],
   "source": [
    "import mysql.connector\n",
    "from flask import Flask, request\n",
    "\n",
    "app = Flask(__name__)\n",
    "\n",
    "# Configuração da conexão com o banco de dados\n",
    "conexao = mysql.connector.connect(\n",
    "    host='localhost',\n",
    "    port= '3306',\n",
    "    user='root',\n",
    "    password='12345678',\n",
    "    database='cliques'\n",
    ")\n",
    "\n",
    "@app.route('/')\n",
    "def contador_de_cliques():\n",
    "    cursor = conexao.cursor()\n",
    "    \n",
    "from flask import Flask, request\n",
    "\n",
    "app = Flask(__name__)\n",
    "\n",
    "@app.route('/')\n",
    "def contador_de_cliques():\n",
    "    # Este é o local apropriado para acessar request.remote_addr\n",
    "    ip = request.remote_addr\n",
    "\n",
    "    return f\"IP da máquina da pessoa: {ip}\"\n",
    "\n",
    "if __name__ == '__main__':\n",
    "    app.run()\n"
   ]
  },
  {
   "cell_type": "code",
   "execution_count": 44,
   "metadata": {},
   "outputs": [
    {
     "name": "stdout",
     "output_type": "stream",
     "text": [
      " * Serving Flask app '__main__'\n",
      " * Debug mode: off\n"
     ]
    },
    {
     "name": "stderr",
     "output_type": "stream",
     "text": [
      "WARNING: This is a development server. Do not use it in a production deployment. Use a production WSGI server instead.\n",
      " * Running on http://127.0.0.1:5000\n",
      "Press CTRL+C to quit\n"
     ]
    }
   ],
   "source": [
    "from flask import Flask, request\n",
    "\n",
    "app = Flask(__name__)\n",
    "\n",
    "@app.route('/')\n",
    "def contador_de_cliques():\n",
    "    # Este é o local apropriado para acessar request.remote_addr\n",
    "    ip = request.remote_addr\n",
    "\n",
    "    return f\"IP da máquina da pessoa: {ip}\"\n",
    "\n",
    "if __name__ == '__main__':\n",
    "    app.run()"
   ]
  },
  {
   "cell_type": "code",
   "execution_count": 46,
   "metadata": {},
   "outputs": [
    {
     "ename": "ProgrammingError",
     "evalue": "Cursor is not connected",
     "output_type": "error",
     "traceback": [
      "\u001b[1;31m---------------------------------------------------------------------------\u001b[0m",
      "\u001b[1;31mProgrammingError\u001b[0m                          Traceback (most recent call last)",
      "File \u001b[1;32m~\\AppData\\Local\\Packages\\PythonSoftwareFoundation.Python.3.11_qbz5n2kfra8p0\\LocalCache\\local-packages\\Python311\\site-packages\\mysql\\connector\\cursor.py:578\u001b[0m, in \u001b[0;36mMySQLCursor.execute\u001b[1;34m(self, operation, params, multi)\u001b[0m\n\u001b[0;32m    577\u001b[0m     \u001b[39mif\u001b[39;00m \u001b[39mnot\u001b[39;00m \u001b[39mself\u001b[39m\u001b[39m.\u001b[39m_connection:\n\u001b[1;32m--> 578\u001b[0m         \u001b[39mraise\u001b[39;00m ProgrammingError\n\u001b[0;32m    579\u001b[0m \u001b[39mexcept\u001b[39;00m (ProgrammingError, \u001b[39mReferenceError\u001b[39;00m) \u001b[39mas\u001b[39;00m err:\n",
      "\u001b[1;31mProgrammingError\u001b[0m: Unknown error",
      "\nThe above exception was the direct cause of the following exception:\n",
      "\u001b[1;31mProgrammingError\u001b[0m                          Traceback (most recent call last)",
      "\u001b[1;32mc:\\Users\\Igor\\Documents\\Estudos\\ContadordeclicksPython\\teeste1.ipynb Célula 9\u001b[0m line \u001b[0;36m3\n\u001b[0;32m      <a href='vscode-notebook-cell:/c%3A/Users/Igor/Documents/Estudos/ContadordeclicksPython/teeste1.ipynb#X11sZmlsZQ%3D%3D?line=0'>1</a>\u001b[0m \u001b[39m# Consulta para recuperar o contador atual\u001b[39;00m\n\u001b[0;32m      <a href='vscode-notebook-cell:/c%3A/Users/Igor/Documents/Estudos/ContadordeclicksPython/teeste1.ipynb#X11sZmlsZQ%3D%3D?line=1'>2</a>\u001b[0m consulta \u001b[39m=\u001b[39m \u001b[39m\"\u001b[39m\u001b[39mSELECT contador FROM Cliques WHERE id = 1\u001b[39m\u001b[39m\"\u001b[39m\n\u001b[1;32m----> <a href='vscode-notebook-cell:/c%3A/Users/Igor/Documents/Estudos/ContadordeclicksPython/teeste1.ipynb#X11sZmlsZQ%3D%3D?line=2'>3</a>\u001b[0m cursor\u001b[39m.\u001b[39;49mexecute(consulta)\n\u001b[0;32m      <a href='vscode-notebook-cell:/c%3A/Users/Igor/Documents/Estudos/ContadordeclicksPython/teeste1.ipynb#X11sZmlsZQ%3D%3D?line=3'>4</a>\u001b[0m contador_atual \u001b[39m=\u001b[39m cursor\u001b[39m.\u001b[39mfetchone()[\u001b[39m0\u001b[39m]\n",
      "File \u001b[1;32m~\\AppData\\Local\\Packages\\PythonSoftwareFoundation.Python.3.11_qbz5n2kfra8p0\\LocalCache\\local-packages\\Python311\\site-packages\\mysql\\connector\\cursor.py:580\u001b[0m, in \u001b[0;36mMySQLCursor.execute\u001b[1;34m(self, operation, params, multi)\u001b[0m\n\u001b[0;32m    578\u001b[0m         \u001b[39mraise\u001b[39;00m ProgrammingError\n\u001b[0;32m    579\u001b[0m \u001b[39mexcept\u001b[39;00m (ProgrammingError, \u001b[39mReferenceError\u001b[39;00m) \u001b[39mas\u001b[39;00m err:\n\u001b[1;32m--> 580\u001b[0m     \u001b[39mraise\u001b[39;00m ProgrammingError(\u001b[39m\"\u001b[39m\u001b[39mCursor is not connected\u001b[39m\u001b[39m\"\u001b[39m) \u001b[39mfrom\u001b[39;00m \u001b[39merr\u001b[39;00m\n\u001b[0;32m    582\u001b[0m \u001b[39mself\u001b[39m\u001b[39m.\u001b[39m_connection\u001b[39m.\u001b[39mhandle_unread_result()\n\u001b[0;32m    584\u001b[0m \u001b[39mself\u001b[39m\u001b[39m.\u001b[39m_reset_result()\n",
      "\u001b[1;31mProgrammingError\u001b[0m: Cursor is not connected"
     ]
    }
   ],
   "source": [
    "# Consulta para recuperar o contador atual\n",
    "consulta = \"SELECT contador FROM Cliques WHERE id = 1\"\n",
    "cursor.execute(consulta)\n",
    "contador_atual = cursor.fetchone()[0]"
   ]
  },
  {
   "cell_type": "code",
   "execution_count": null,
   "metadata": {},
   "outputs": [],
   "source": [
    "# Incrementa o contador\n",
    "novo_contador = contador_atual + 1\n"
   ]
  },
  {
   "cell_type": "code",
   "execution_count": null,
   "metadata": {},
   "outputs": [],
   "source": [
    " # Atualiza o contador e registra o IP, data e hora no banco de dados\n",
    "update_query = \"UPDATE Cliques SET contador = %s, ip = %s WHERE id = 1\"\n",
    "cursor.execute(update_query, (novo_contador, ip))\n",
    "conexao.commit()\n",
    "\n",
    "cursor.close()\n",
    "\n",
    "return f\"Contagem de cliques: {novo_contador}\"\n",
    "\n",
    "if __name__ == '__main__':\n",
    "    app.run()"
   ]
  }
 ],
 "metadata": {
  "kernelspec": {
   "display_name": "Python 3",
   "language": "python",
   "name": "python3"
  },
  "language_info": {
   "name": "python",
   "version": "3.11.6"
  }
 },
 "nbformat": 4,
 "nbformat_minor": 2
}
