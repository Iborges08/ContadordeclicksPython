{
 "cells": [
  {
   "cell_type": "code",
   "execution_count": 9,
   "metadata": {},
   "outputs": [],
   "source": [
    "import mysql.connector\n",
    "\n",
    "# Configuração da conexão com o banco de dados\n",
    "conexao = mysql.connector.connect(\n",
    "    host='localhost',\n",
    "    port= '3306',\n",
    "    user='root',\n",
    "    password='12345678',\n",
    "    database='cliques'\n",
    ")"
   ]
  },
  {
   "cell_type": "code",
   "execution_count": 10,
   "metadata": {},
   "outputs": [],
   "source": [
    "# Crie um cursor\n",
    "cursor = conexao.cursor()"
   ]
  },
  {
   "cell_type": "code",
   "execution_count": 12,
   "metadata": {},
   "outputs": [],
   "source": [
    "# Defina a consulta SQL para criar a tabela de cliques\n",
    "consulta = \"\"\"\n",
    "CREATE TABLE cliques (\n",
    "    id INT AUTO_INCREMENT PRIMARY KEY,\n",
    "    ip VARCHAR(45),\n",
    "    data_hora TIMESTAMP DEFAULT CURRENT_TIMESTAMP,\n",
    "    contador INT\n",
    ")\n",
    "\"\"\""
   ]
  },
  {
   "cell_type": "code",
   "execution_count": 13,
   "metadata": {},
   "outputs": [],
   "source": [
    "# Execute a consulta SQL para criar a tabela\n",
    "cursor.execute(consulta)"
   ]
  },
  {
   "cell_type": "code",
   "execution_count": 14,
   "metadata": {},
   "outputs": [],
   "source": [
    "# Confirme as alterações no banco de dados\n",
    "conexao.commit()"
   ]
  },
  {
   "cell_type": "code",
   "execution_count": 15,
   "metadata": {},
   "outputs": [],
   "source": [
    "# Feche o cursor e a conexão\n",
    "cursor.close()\n",
    "conexao.close()"
   ]
  },
  {
   "cell_type": "code",
   "execution_count": 7,
   "metadata": {},
   "outputs": [
    {
     "name": "stdout",
     "output_type": "stream",
     "text": [
      " * Serving Flask app '__main__'\n",
      " * Debug mode: off\n"
     ]
    },
    {
     "name": "stderr",
     "output_type": "stream",
     "text": [
      "WARNING: This is a development server. Do not use it in a production deployment. Use a production WSGI server instead.\n",
      " * Running on http://127.0.0.1:5000\n",
      "Press CTRL+C to quit\n"
     ]
    }
   ],
   "source": [
    "import mysql.connector\n",
    "from flask import Flask, request\n",
    "\n",
    "app = Flask(__name__)\n",
    "\n",
    "# Configuração da conexão com o banco de dados\n",
    "conexao = mysql.connector.connect(\n",
    "    host='localhost',\n",
    "    port= '3306',\n",
    "    user='root',\n",
    "    password='12345678',\n",
    "    database='cliques'\n",
    ")\n",
    "\n",
    "@app.route('/')\n",
    "def contador_de_cliques():\n",
    "    cursor = conexao.cursor()\n",
    "    \n",
    "# from flask import Flask, request\n",
    "\n",
    "app = Flask(__name__)\n",
    "\n",
    "@app.route('/')\n",
    "def contador_de_cliques():\n",
    "    # Este é o local apropriado para acessar request.remote_addr\n",
    "    ip = request.remote_addr\n",
    "\n",
    "    return f\"IP da máquina da pessoa: {ip}\"\n",
    "\n",
    "if __name__ == '__main__':\n",
    "    app.run()\n"
   ]
  },
  {
   "cell_type": "code",
   "execution_count": 6,
   "metadata": {},
   "outputs": [
    {
     "name": "stdout",
     "output_type": "stream",
     "text": [
      " * Serving Flask app '__main__'\n",
      " * Debug mode: off\n"
     ]
    },
    {
     "name": "stderr",
     "output_type": "stream",
     "text": [
      "WARNING: This is a development server. Do not use it in a production deployment. Use a production WSGI server instead.\n",
      " * Running on http://127.0.0.1:5000\n",
      "Press CTRL+C to quit\n"
     ]
    }
   ],
   "source": [
    "from flask import Flask, request\n",
    "\n",
    "app = Flask(__name__)\n",
    "\n",
    "@app.route('/')\n",
    "def contador_de_cliques():\n",
    "     # Este é o local apropriado para acessar request.remote_addr\n",
    "     ip = request.remote_addr\n",
    "\n",
    "     return f\"IP da máquina da pessoa: {ip}\"\n",
    "\n",
    "if __name__ == '__main__':\n",
    "    app.run()"
   ]
  },
  {
   "cell_type": "code",
   "execution_count": 46,
   "metadata": {},
   "outputs": [
    {
     "name": "stdout",
     "output_type": "stream",
     "text": [
      "Novo contador: 1\n"
     ]
    }
   ],
   "source": [
    "# Recupera o contador atual do banco de dados\n",
    "import mysql.connector\n",
    "\n",
    "# Conectar ao banco de dados\n",
    "conexao = mysql.connector.connect(\n",
    "    host='localhost',\n",
    "    port='3306',\n",
    "    user='root',\n",
    "    password='12345678',\n",
    "    database='cliques'\n",
    ")\n",
    "\n",
    "# Criar um objeto cursor\n",
    "cursor = conexao.cursor()\n",
    "\n",
    "# Consulta para recuperar o contador atual\n",
    "consulta = \"SELECT contador FROM Cliques WHERE id = 1\"\n",
    "cursor.execute(consulta)\n",
    "resultado = cursor.fetchone()\n",
    "\n",
    "if resultado is not None:\n",
    "    contador_atual = resultado[0]\n",
    "else:\n",
    "    contador_atual = 0\n",
    "\n",
    "# Fechar o cursor e a conexão quando terminar\n",
    "cursor.close()\n",
    "conexao.close()\n",
    "\n",
    "# Incrementa o contador\n",
    "novo_contador = contador_atual + 1\n",
    "print(\"Novo contador:\", novo_contador)\n",
    "\n"
   ]
  },
  {
   "cell_type": "code",
   "execution_count": 1,
   "metadata": {},
   "outputs": [
    {
     "ename": "NameError",
     "evalue": "name 'contador_atual' is not defined",
     "output_type": "error",
     "traceback": [
      "\u001b[1;31m---------------------------------------------------------------------------\u001b[0m",
      "\u001b[1;31mNameError\u001b[0m                                 Traceback (most recent call last)",
      "\u001b[1;32mc:\\Users\\Igor\\Documents\\Estudos\\ContadordeclicksPython\\teeste1.ipynb Célula 10\u001b[0m line \u001b[0;36m2\n\u001b[0;32m      <a href='vscode-notebook-cell:/c%3A/Users/Igor/Documents/Estudos/ContadordeclicksPython/teeste1.ipynb#X12sZmlsZQ%3D%3D?line=0'>1</a>\u001b[0m \u001b[39m# Incrementa o contador\u001b[39;00m\n\u001b[1;32m----> <a href='vscode-notebook-cell:/c%3A/Users/Igor/Documents/Estudos/ContadordeclicksPython/teeste1.ipynb#X12sZmlsZQ%3D%3D?line=1'>2</a>\u001b[0m novo_contador \u001b[39m=\u001b[39m contador_atual \u001b[39m+\u001b[39m \u001b[39m1\u001b[39m\n",
      "\u001b[1;31mNameError\u001b[0m: name 'contador_atual' is not defined"
     ]
    }
   ],
   "source": [
    "# Incrementa o contador\n",
    "novo_contador = contador_atual + 1\n"
   ]
  },
  {
   "cell_type": "code",
   "execution_count": 51,
   "metadata": {},
   "outputs": [
    {
     "ename": "NameError",
     "evalue": "name 'ip' is not defined",
     "output_type": "error",
     "traceback": [
      "\u001b[1;31m---------------------------------------------------------------------------\u001b[0m",
      "\u001b[1;31mNameError\u001b[0m                                 Traceback (most recent call last)",
      "\u001b[1;32mc:\\Users\\Igor\\Documents\\Estudos\\ContadordeclicksPython\\teeste1.ipynb Célula 11\u001b[0m line \u001b[0;36m3\n\u001b[0;32m      <a href='vscode-notebook-cell:/c%3A/Users/Igor/Documents/Estudos/ContadordeclicksPython/teeste1.ipynb#X13sZmlsZQ%3D%3D?line=0'>1</a>\u001b[0m \u001b[39m# Atualiza o contador e registra o IP, data e hora no banco de dados\u001b[39;00m\n\u001b[0;32m      <a href='vscode-notebook-cell:/c%3A/Users/Igor/Documents/Estudos/ContadordeclicksPython/teeste1.ipynb#X13sZmlsZQ%3D%3D?line=1'>2</a>\u001b[0m update_query \u001b[39m=\u001b[39m \u001b[39m\"\u001b[39m\u001b[39mUPDATE Cliques SET contador = \u001b[39m\u001b[39m%s\u001b[39;00m\u001b[39m, ip = \u001b[39m\u001b[39m%s\u001b[39;00m\u001b[39m WHERE id = 1\u001b[39m\u001b[39m\"\u001b[39m\n\u001b[1;32m----> <a href='vscode-notebook-cell:/c%3A/Users/Igor/Documents/Estudos/ContadordeclicksPython/teeste1.ipynb#X13sZmlsZQ%3D%3D?line=2'>3</a>\u001b[0m cursor\u001b[39m.\u001b[39mexecute(update_query, (novo_contador, ip))\n\u001b[0;32m      <a href='vscode-notebook-cell:/c%3A/Users/Igor/Documents/Estudos/ContadordeclicksPython/teeste1.ipynb#X13sZmlsZQ%3D%3D?line=3'>4</a>\u001b[0m conexao\u001b[39m.\u001b[39mcommit()\n\u001b[0;32m      <a href='vscode-notebook-cell:/c%3A/Users/Igor/Documents/Estudos/ContadordeclicksPython/teeste1.ipynb#X13sZmlsZQ%3D%3D?line=5'>6</a>\u001b[0m cursor\u001b[39m.\u001b[39mclose()\n",
      "\u001b[1;31mNameError\u001b[0m: name 'ip' is not defined"
     ]
    }
   ],
   "source": [
    " # Atualiza o contador e registra o IP, data e hora no banco de dados\n",
    "update_query = \"UPDATE Cliques SET contador = %s, ip = %s WHERE id = 1\"\n",
    "cursor.execute(update_query, (novo_contador, ip))\n",
    "conexao.commit()\n",
    "\n",
    "cursor.close()\n",
    "\n",
    "return f\"Contagem de cliques: {novo_contador}\"\n",
    "\n",
    "if __name__ == '__main__':\n",
    "    app.run()"
   ]
  },
  {
   "cell_type": "code",
   "execution_count": null,
   "metadata": {},
   "outputs": [],
   "source": []
  }
 ],
 "metadata": {
  "kernelspec": {
   "display_name": "Python 3",
   "language": "python",
   "name": "python3"
  },
  "language_info": {
   "codemirror_mode": {
    "name": "ipython",
    "version": 3
   },
   "file_extension": ".py",
   "mimetype": "text/x-python",
   "name": "python",
   "nbconvert_exporter": "python",
   "pygments_lexer": "ipython3",
   "version": "3.11.6"
  }
 },
 "nbformat": 4,
 "nbformat_minor": 2
}
