{
 "cells": [
  {
   "cell_type": "code",
   "execution_count": 28,
   "metadata": {},
   "outputs": [],
   "source": [
    "import mysql.connector\n",
    "from flask import Flask, request\n",
    "\n",
    "# Configuração da conexão com o banco de dados\n",
    "conexao = mysql.connector.connect(\n",
    "    host='localhost',\n",
    "    port= '3306',\n",
    "    user='root',\n",
    "    password='12345678',\n",
    "    database='cliques'\n",
    ")"
   ]
  },
  {
   "cell_type": "code",
   "execution_count": null,
   "metadata": {},
   "outputs": [],
   "source": [
    "# Crie um cursor\n",
    "cursor = conexao.cursor()"
   ]
  },
  {
   "cell_type": "code",
   "execution_count": null,
   "metadata": {},
   "outputs": [],
   "source": [
    "# Defina a consulta SQL para criar a tabela de cliques\n",
    "consulta = \"\"\"\n",
    "CREATE TABLE cliques (\n",
    "    id INT AUTO_INCREMENT PRIMARY KEY,\n",
    "    ip VARCHAR(45),\n",
    "    data_hora TIMESTAMP DEFAULT CURRENT_TIMESTAMP,\n",
    "    contador INT\n",
    ")\n",
    "\"\"\""
   ]
  },
  {
   "cell_type": "code",
   "execution_count": null,
   "metadata": {},
   "outputs": [],
   "source": [
    "# Verifique se a tabela já existe\n",
    "check_table_query = \"SHOW TABLES LIKE 'Cliques'\"\n",
    "cursor.execute(check_table_query)\n",
    "result = cursor.fetchone()\n",
    "\n",
    "if result:\n",
    "    print(\"A tabela 'Cliques' já existe.\")\n",
    "else:\n",
    "    # Execute a consulta SQL para criar a tabela\n",
    "    cursor.execute(consulta)\n",
    "    print(\"A tabela 'Cliques' foi criada com sucesso.\")"
   ]
  },
  {
   "cell_type": "code",
   "execution_count": null,
   "metadata": {},
   "outputs": [],
   "source": [
    "# Confirme as alterações no banco de dados\n",
    "conexao.commit()"
   ]
  },
  {
   "cell_type": "code",
   "execution_count": null,
   "metadata": {},
   "outputs": [],
   "source": [
    "# Feche o cursor e a conexão\n",
    "cursor.close()\n",
    "conexao.close()"
   ]
  },
  {
   "cell_type": "code",
   "execution_count": null,
   "metadata": {},
   "outputs": [],
   "source": [
    "import mysql.connector\n",
    "from flask import Flask, request\n",
    "\n",
    "app = Flask(__name__)\n",
    "\n",
    "# Configuração da conexão com o banco de dados\n",
    "conexao = mysql.connector.connect(\n",
    "    host='localhost',\n",
    "    port= '3306',\n",
    "    user='root',\n",
    "    password='12345678',\n",
    "    database='cliques'\n",
    ")\n",
    "\n",
    "@app.route('/')\n",
    "def contador_de_cliques():\n",
    "    cursor = conexao.cursor()\n",
    "    \n",
    "# from flask import Flask, request\n",
    "\n",
    "app = Flask(__name__)\n",
    "\n",
    "@app.route('/')\n",
    "def contador_de_cliques():\n",
    "    # Este é o local apropriado para acessar request.remote_addr\n",
    "    ip = request.remote_addr\n",
    "\n",
    "    return f\"IP da máquina da pessoa: {ip}\"\n",
    "\n",
    "if __name__ == '__main__':\n",
    "    app.run()\n"
   ]
  },
  {
   "cell_type": "code",
   "execution_count": null,
   "metadata": {},
   "outputs": [],
   "source": [
    "# Recupera o contador atual do banco de dados\n",
    "import mysql.connector\n",
    "\n",
    "# Conectar ao banco de dados\n",
    "conexao = mysql.connector.connect(\n",
    "    host='localhost',\n",
    "    port='3306',\n",
    "    user='root',\n",
    "    password='12345678',\n",
    "    database='cliques'\n",
    ")\n",
    "\n",
    "# Criar um objeto cursor\n",
    "cursor = conexao.cursor()\n",
    "\n",
    "# Consulta para recuperar o contador atual\n",
    "consulta = \"SELECT contador FROM Cliques WHERE id = 1\"\n",
    "cursor.execute(consulta)\n",
    "resultado = cursor.fetchone()\n",
    "\n",
    "if resultado is not None:\n",
    "    contador_atual = resultado[0]\n",
    "else:\n",
    "    contador_atual = 0\n",
    "\n",
    "# Fechar o cursor e a conexão quando terminar\n",
    "cursor.close()\n",
    "conexao.close()\n",
    "\n",
    "# Incrementa o contador\n",
    "novo_contador = contador_atual + 1\n",
    "print(\"Novo contador:\", novo_contador)\n",
    "\n"
   ]
  },
  {
   "cell_type": "code",
   "execution_count": null,
   "metadata": {},
   "outputs": [],
   "source": [
    " # Atualiza o contador e registra o IP, data e hora no banco de dados\n",
    "update_query = \"UPDATE Cliques SET contador = %s, ip = %s WHERE id = 1\"\n",
    "cursor.execute(update_query, (novo_contador, ip))\n",
    "conexao.commit()\n",
    "\n",
    "cursor.close()\n",
    "\n",
    "return f\"Contagem de cliques: {novo_contador}\"\n",
    "\n",
    "if __name__ == '__main__':\n",
    "    app.run()"
   ]
  },
  {
   "cell_type": "code",
   "execution_count": null,
   "metadata": {},
   "outputs": [],
   "source": []
  }
 ],
 "metadata": {
  "kernelspec": {
   "display_name": "Python 3",
   "language": "python",
   "name": "python3"
  },
  "language_info": {
   "codemirror_mode": {
    "name": "ipython",
    "version": 3
   },
   "file_extension": ".py",
   "mimetype": "text/x-python",
   "name": "python",
   "nbconvert_exporter": "python",
   "pygments_lexer": "ipython3",
   "version": "3.11.6"
  }
 },
 "nbformat": 4,
 "nbformat_minor": 2
}
