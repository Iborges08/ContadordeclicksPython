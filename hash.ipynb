{
 "cells": [
  {
   "cell_type": "code",
   "execution_count": 1,
   "metadata": {},
   "outputs": [],
   "source": [
    "from flask import Flask, request, jsonify\n",
    "import mysql.connector\n",
    "import hashlib\n",
    "import datetime\n",
    "\n",
    "# Configurações do banco de dados\n",
    "conexao = mysql.connector.connect(\n",
    "     host='localhost',\n",
    "     port='3306',\n",
    "     user='root',\n",
    "     password='12345678',\n",
    "     database='dunice'\n",
    " )\n",
    "\n",
    "app = Flask(__name__)"
   ]
  },
  {
   "cell_type": "code",
   "execution_count": 2,
   "metadata": {},
   "outputs": [],
   "source": [
    "def generate_hash(ip):\n",
    "    hash_obj = hashlib.md5(ip.encode())\n",
    "    return hash_obj.hexdigest()[:4]\n"
   ]
  },
  {
   "cell_type": "code",
   "execution_count": 3,
   "metadata": {},
   "outputs": [],
   "source": [
    "# Rota para capturar o clique no link \"https://dunice.adv.br/\"\n",
    "@app.route('/capturar_clique', methods=['GET'])\n",
    "def capturar_clique_dunice():\n",
    "    try:\n",
    "        ip = request.remote_addr\n",
    "        hash_code = generate_hash(ip)\n",
    "        data_hora = datetime.datetime.now()\n",
    "\n",
    "        # Conectar ao banco de dados\n",
    "        conn = conexao\n",
    "        cursor = conn.cursor()\n",
    "\n",
    "        # Inserir os dados na tabela de cliques\n",
    "        cursor.execute(\"INSERT INTO cliques(ip, hash_code, data_hora) VALUES (%s, %s, %s)\", (ip, hash_code, data_hora))\n",
    "        conn.commit()\n",
    "\n",
    "        #conn.close()\n",
    "\n",
    "        return jsonify({\"message\": \"Clique capturado com sucesso!\"})\n",
    "    except Exception as e:\n",
    "        return jsonify({\"error\": str(e)})\n"
   ]
  },
  {
   "cell_type": "code",
   "execution_count": 4,
   "metadata": {},
   "outputs": [
    {
     "name": "stdout",
     "output_type": "stream",
     "text": [
      " * Serving Flask app '__main__'\n",
      " * Debug mode: off\n"
     ]
    },
    {
     "name": "stderr",
     "output_type": "stream",
     "text": [
      "WARNING: This is a development server. Do not use it in a production deployment. Use a production WSGI server instead.\n",
      " * Running on http://127.0.0.1:5000\n",
      "Press CTRL+C to quit\n"
     ]
    }
   ],
   "source": [
    "if __name__ == '__main__':\n",
    "    app.run()"
   ]
  },
  {
   "cell_type": "code",
   "execution_count": null,
   "metadata": {},
   "outputs": [],
   "source": []
  }
 ],
 "metadata": {
  "kernelspec": {
   "display_name": "Python 3",
   "language": "python",
   "name": "python3"
  },
  "language_info": {
   "codemirror_mode": {
    "name": "ipython",
    "version": 3
   },
   "file_extension": ".py",
   "mimetype": "text/x-python",
   "name": "python",
   "nbconvert_exporter": "python",
   "pygments_lexer": "ipython3",
   "version": "3.11.6"
  }
 },
 "nbformat": 4,
 "nbformat_minor": 2
}
